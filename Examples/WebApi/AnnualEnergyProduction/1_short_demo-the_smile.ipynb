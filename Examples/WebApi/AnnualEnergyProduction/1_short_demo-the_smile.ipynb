{
 "cells": [
  {
   "cell_type": "markdown",
   "metadata": {},
   "source": [
    "# Imports"
   ]
  },
  {
   "cell_type": "code",
   "execution_count": null,
   "metadata": {},
   "outputs": [],
   "source": [
    "import os\n",
    "import requests\n",
    "import json\n",
    "import time\n",
    "from matplotlib import pyplot as plt\n",
    "import pandas as pd\n",
    "from copy import deepcopy\n",
    "\n",
    "#some helper functions\n",
    "def print_settings(model_type, input_data):\n",
    "    print('\\t' + str(model_type) + ' model settings: ')\n",
    "    print('\\t\\t' + str(model_type) + ' calculation type: ' + input_data['energyEfficienciesSettings'][str(model_type) + 'Model'][str(model_type) + 'ModelType'])\n",
    "    for setting, value in input_data['energyEfficienciesSettings'][str(model_type) + 'Model'].items():\n",
    "        if setting.lower() == input_data['energyEfficienciesSettings'][str(model_type) + 'Model'][str(model_type) + 'ModelType'].lower():\n",
    "            print('\\t\\t\\t'+str(setting)+': '+str(value))\n",
    "\n",
    "def print_modeling_settings(input_data):\n",
    "    print(\"Calling WindFarmer Services API...\")\n",
    "    print_settings('wake', input_data)\n",
    "    print_settings('blockage', input_data)"
   ]
  },
  {
   "cell_type": "markdown",
   "metadata": {},
   "source": [
    "# Let's verify if the `WindFarmer Services API` is alive and access is configurated correctly"
   ]
  },
  {
   "cell_type": "code",
   "execution_count": null,
   "metadata": {},
   "outputs": [],
   "source": [
    "api_url = 'https://windfarmer.uat.dnv.com/api/v2/'\n",
    "auth_token = auth_token = os.environ['WINDFARMER_UAT_KEY']\n",
    "headers = {\n",
    "    'Authorization': f'Bearer {auth_token}',\n",
    "    'Content-Type': 'application/json'\n",
    "}\n",
    "response = requests.get(api_url + 'Status', headers = headers)\n",
    "print(json.loads(response.text)[\"message\"])"
   ]
  },
  {
   "attachments": {},
   "cell_type": "markdown",
   "metadata": {},
   "source": [
    "# Hypothetical (light-weight) wind farm in flat terrain: `The Smile`"
   ]
  },
  {
   "attachments": {},
   "cell_type": "markdown",
   "metadata": {},
   "source": [
    "The json containing inputs necessary to run an energy calculation in the cloud <b>can be easiy generated in DNV's WindFarmer:Analyst</b>, or can be compiled manually.\n",
    "\n",
    "It contains:\n",
    " - layout geometry\n",
    " - turbine specs\n",
    " - wind resource information\n",
    " - model settings\n",
    " - ... \n",
    "\n",
    "The formal spec of the API is available here: https://windfarmer.uat.dnv.com/documents "
   ]
  },
  {
   "cell_type": "code",
   "execution_count": null,
   "metadata": {},
   "outputs": [],
   "source": [
    "# Load wind farm definitnion from a json created in WindFarmer Desktop, or built from scratch.\n",
    "with open('..\\..\\..\\DemoData\\TheBowl\\TheBowl.json') as f:\n",
    "    json_string = f.read()\n",
    "    input_data = json.loads(json_string)\n",
    "\n",
    "# in order to speed the example up, The Bowl wind farm is trimmed into The Smile\n",
    "the_smile = ['T95', 'T104', 'T99', 'T107', 'T102', 'T110', 'T97', 'T105', 'T100', 'T108',\n",
    "             'T103', 'T98', 'T106', 'T101', 'T109', 'T96', 'T82', 'T90','T77','T85','T93',\n",
    "             'T80','T88','T83','T91','T78','T86','T94','T81','T89','T76','T84','T92','T79','T87']\n",
    "turbines = [turbine for turbine in input_data['windFarms'][0]['turbines'] if turbine['name'] in the_smile]\n",
    "input_data['windFarms'][0]['turbines'] = turbines\n",
    "\n",
    "fig1, ax = plt.subplots(figsize=(10,4))\n",
    "for wt in input_data['windFarms'][0]['turbines']:\n",
    "    ax.scatter(wt['location']['easting_m'], wt['location']['northing_m'], c='b')\n",
    "    ax.set_xlabel(\"Easting [m]\")\n",
    "    ax.set_ylabel(\"Northing [m]\")\n",
    "    ax.set_aspect('equal', adjustable='box')\n",
    "    ax.annotate(wt['name'],[wt['location']['easting_m'], wt['location']['northing_m']] )\n",
    "ax.set_title('The Smile - a hypothetical wind farm')"
   ]
  },
  {
   "attachments": {},
   "cell_type": "markdown",
   "metadata": {},
   "source": [
    "# Calling  `WindFarmer Services API`, the `AnnualEnergyProduction` endpoint"
   ]
  },
  {
   "cell_type": "markdown",
   "metadata": {},
   "source": [
    "#### Let's test a few wake & blockage modeling configurations as below:"
   ]
  },
  {
   "cell_type": "code",
   "execution_count": null,
   "metadata": {},
   "outputs": [],
   "source": [
    "inputs_dict = {}\n",
    "# Version #1 - CFDML: \n",
    "input_data_v1 = deepcopy(input_data)\n",
    "input_data_v1['energyEfficienciesSettings']['wakeModel']['wakeModelType'] = \"CFDML\"\n",
    "# CFD.ML models wake&blockage together, so no need to compute an additional weighted blockage correction - setting blockageModel = None\n",
    "input_data_v1['energyEfficienciesSettings']['blockageModel']['blockageModelType'] = \"NoBlockageModel\" \n",
    "inputs_dict['cfdml'] = input_data_v1\n",
    "\n",
    "\n",
    "# Version #2: EddyViscosity wake model + Large WindFarm correction + BEET model to correct for blockage\n",
    "input_data_v2 = deepcopy(input_data)\n",
    "input_data_v2['energyEfficienciesSettings']['wakeModel']['wakeModelType'] = \"EddyViscosity\"\n",
    "input_data_v2['energyEfficienciesSettings']['wakeModel']['eddyViscosity']['useLargeWindFarmModel'] = True\n",
    "input_data_v2['energyEfficienciesSettings']['blockageModel']['blockageModelType'] = \"BEET\"\n",
    "input_data_v2['energyEfficienciesSettings']['blockageModel']['beet']['blockageCorrectionApplicationMethod'] = \"OnEnergy\"\n",
    "wake_settings_key = 'eddyViscosity'\n",
    "inputs_dict['ev+lwf+beet'] = input_data_v2\n",
    "\n",
    "# Version #3: as version 2, but applying BEET as an ambient windspeed perturbation\n",
    "input_data_v3 = deepcopy(input_data_v2)\n",
    "input_data_v3['energyEfficienciesSettings']['blockageModel']['beet']['blockageCorrectionApplicationMethod'] = \"OnWindSpeed\"\n",
    "inputs_dict['ev+lwf+beet_ws'] = input_data_v3\n"
   ]
  },
  {
   "cell_type": "markdown",
   "metadata": {},
   "source": [
    "#### Calling the API"
   ]
  },
  {
   "cell_type": "code",
   "execution_count": null,
   "metadata": {},
   "outputs": [],
   "source": [
    "def post_wfer_api_aep_calculation(input_data, url, headers):\n",
    "    start = time.time()\n",
    "    response = requests.post(\n",
    "        url + 'AnnualEnergyProduction', \n",
    "        headers=headers,\n",
    "        json = input_data)\n",
    "    print(f'Response {response.status_code} - {response.reason} in {time.time() - start:.2f}s')\n",
    "    # Print the error detail if we haven't receieved a 200 OK response\n",
    "    if response.status_code != 200:\n",
    "        print(json.loads(response.content)['detail'])\n",
    "    return response    \n",
    "\n",
    "responses_dict = {}\n",
    "for k,v in inputs_dict.items():\n",
    "    print_modeling_settings(v)    \n",
    "    responses_dict[k] = post_wfer_api_aep_calculation(v, api_url, headers)"
   ]
  },
  {
   "attachments": {},
   "cell_type": "markdown",
   "metadata": {},
   "source": [
    "# The AEP results per turbine for the CFD.ML config"
   ]
  },
  {
   "cell_type": "code",
   "execution_count": null,
   "metadata": {},
   "outputs": [],
   "source": [
    "result_set_to_plot = \"cfdml\" # select one of the 3 previously defined configs: cfdml / ev+lwf+beet / ev+lwf+beet_ws\n",
    "    \n",
    "result = json.loads(responses_dict[result_set_to_plot].content)\n",
    "full_aep_MWh_per_year = float(result['windFarmAepOutputs'][0]['fullAnnualEnergyYield_MWh_per_year'])\n",
    "print(f'Wake & Blockage Affected Annual Energy Production = {full_aep_MWh_per_year:.1f} MWh / year')\n",
    "#plot  per-turbine yield\n",
    "per_turbine_results = pd.DataFrame.from_dict(result['windFarmAepOutputs'][0]['turbineResults'])\n",
    "per_turbine_results['easting'] = per_turbine_results['turbineLocation'].map(lambda x: dict(x)['easting_m'])\n",
    "per_turbine_results['northing'] = per_turbine_results['turbineLocation'].map(lambda x: dict(x)['northing_m'])\n",
    "fig, ax = plt.subplots(figsize=(10,4))\n",
    "im = ax.scatter(per_turbine_results['easting'], per_turbine_results['northing'], c=per_turbine_results['fullAnnualYield_MWh_per_year'], cmap='BuGn')\n",
    "ax.set_title(\"Per turbine energy production (affected by blockage & wakes) [MWh/yr]\")\n",
    "ax.set_xlabel(\"Easting [m]\")\n",
    "ax.set_ylabel(\"Northing [m]\")\n",
    "ax.set_aspect('equal', adjustable='box')\n",
    "for wt in per_turbine_results.iterrows():\n",
    "    ax.annotate(wt[1]['turbineName'],[wt[1]['easting'], wt[1]['northing']] )\n",
    "fig.colorbar(im)"
   ]
  },
  {
   "attachments": {},
   "cell_type": "markdown",
   "metadata": {},
   "source": [
    "# Inflow pattern under southern winds"
   ]
  },
  {
   "cell_type": "markdown",
   "metadata": {},
   "source": [
    "Let's see how the inflow pattern varies with model.\n",
    " - With EV+LWF+BEET, the inflow wind speed is equal to 8 m/s (the ambient wind speed in that case), which is expected, as EV does not accoun for upstream or lateral effect in the flow, and BEET is applied ex-post, as a energy-based correction.\n",
    " - When BEET is applied as a wind speed perturbation (EV+LWF+BEET_WS), prior to the power conversion step, we see a unfirom reduction in the incoming wind speed.\n",
    " - Finally, CFD.ML is able to resolve the per-turbine effects of blockage.  "
   ]
  },
  {
   "cell_type": "code",
   "execution_count": null,
   "metadata": {},
   "outputs": [],
   "source": [
    "southern_edge = ['T95', 'T104', 'T99', 'T107', 'T102', 'T110', 'T97', 'T105', 'T100', 'T108', 'T103', 'T98', 'T106', 'T101', 'T109', 'T96']\n",
    "n_dir_steps = len(result['windFarmAepOutputs'][0]['turbineFlowAndPerformanceMatricesWithMastBinning'][0]['wakedWindSpeed_m_per_s'])\n",
    "idx_dir = int(180 / (360.0 / n_dir_steps) + 1)\n",
    "idx_ws = 8\n",
    "# extract results\n",
    "front_row_waked_windspeeds_dict = {}\n",
    "for k,v in responses_dict.items():\n",
    "    result = json.loads(v.content)\n",
    "    waked_windspeeds = pd.DataFrame(result['windFarmAepOutputs'][0]['turbineFlowAndPerformanceMatricesWithMastBinning'])\n",
    "    waked_windspeeds.set_index('turbineName', drop=True, inplace=True)\n",
    "    waked_windspeeds['wakedWindSpeed_at_8_m_per_s_at_180_deg'] = waked_windspeeds['wakedWindSpeed_m_per_s'].map(lambda x: round(x[idx_dir][idx_ws],3))\n",
    "    front_row_waked_windspeeds_dict[k] = waked_windspeeds\n",
    "# Plot\n",
    "fix, ax = plt.subplots(figsize=(10,4))\n",
    "concat = pd.concat([x.loc[southern_edge]['wakedWindSpeed_at_8_m_per_s_at_180_deg'] for x in front_row_waked_windspeeds_dict.values()], axis=1)\n",
    "concat.columns = [x for x in front_row_waked_windspeeds_dict.keys()]\n",
    "concat.plot(kind='bar', ax=ax)\n",
    "handles, labels = ax.get_legend_handles_labels()\n",
    "ax.legend(handles, concat.columns)\n",
    "ax.set_title('Wake and blockage affected wind speeds at turbines\\n Southern edge of the farm.\\n Free stream: 8 m/s, 180 deg')\n",
    "ax.set_ylabel('Wind speed [m/s]')\n",
    "ax.set_xlabel('Turbine label')\n",
    "ax.set_ylim([7.8,8.05])\n",
    "ax.grid(True)"
   ]
  }
 ],
 "metadata": {
  "interpreter": {
   "hash": "720ac664810b14341ded5295599f991a957bcf309f170cd7e9e2a67ba5a9e1ab"
  },
  "kernelspec": {
   "display_name": "Python 3.9.13 ('wf_auto')",
   "language": "python",
   "name": "python3"
  },
  "language_info": {
   "codemirror_mode": {
    "name": "ipython",
    "version": 3
   },
   "file_extension": ".py",
   "mimetype": "text/x-python",
   "name": "python",
   "nbconvert_exporter": "python",
   "pygments_lexer": "ipython3",
   "version": "3.9.16"
  },
  "metadata": {
   "interpreter": {
    "hash": "d1e4be30fd4c5a8b3e03d3501a2d81ca2cb313a2f0b670c480ce2a911aa80e36"
   }
  },
  "orig_nbformat": 2
 },
 "nbformat": 4,
 "nbformat_minor": 2
}
